{
 "cells": [
  {
   "cell_type": "code",
   "execution_count": 1,
   "id": "8ceeee80-7984-4128-b7ec-9a4721545570",
   "metadata": {},
   "outputs": [],
   "source": [
    "import numpy as np\n",
    "from nwsspc.sharp.calc import parcel, thermo\n",
    "import warnings \n",
    "warnings.filterwarnings(\"ignore\")\n",
    "np.set_printoptions(suppress=True)"
   ]
  },
  {
   "cell_type": "code",
   "execution_count": 2,
   "id": "12b3132c-f5af-4375-9d55-1b76d9bd5103",
   "metadata": {},
   "outputs": [],
   "source": [
    "#Most of this code is from SHARPpy (uwyo_decoder.py), but removed the date, lat/lon, and profile creation\n",
    "stid='KTOP'\n",
    "file_data = open(f'{stid}.html','r').read()\n",
    "snfile = [l for l in file_data.split('\\n')]\n",
    "bgn = -1\n",
    "end = -1\n",
    "ttl = -1\n",
    "stl = -1\n",
    "\n",
    "for i in range(len(snfile)):\n",
    "    if snfile[i] == \"<PRE>\": \n",
    "        bgn = i+5\n",
    "    if snfile[i][:10] == \"</PRE><H3>\": \n",
    "        end = i-1\n",
    "    if snfile[i][:4] == \"<H2>\" and snfile[i][-5:] == \"</H2>\": \n",
    "        ttl = i\n",
    "    if 'Station latitude' in snfile[i]:\n",
    "        stl = i\n",
    "snd_data = []\n",
    "for i in range(bgn, end+1):\n",
    "    vals = []\n",
    "    for j in [ 0, 1, 2, 3, 5, 6, 7, 8, 9 ]:\n",
    "        val = snfile[i][(7 * j):(7 * (j + 1))].strip()\n",
    "\n",
    "        if val == \"\":\n",
    "            #vals.append(-9999)\n",
    "            vals.append(np.nan)\n",
    "        else:\n",
    "            vals.append(float(val))\n",
    "    snd_data.append(vals)\n",
    "col_names = ['pres', 'hght', 'tmpc', 'dwpc', 'mixr', 'wdir', 'wspd', 'theta', 'thetae']\n",
    "snd_dict = dict((v, np.array(p).astype('f')) for v, p in zip(col_names, list(zip(*snd_data))))\n",
    "\n",
    "ni=[]\n",
    "for idx, i in enumerate(snd_dict['pres']):\n",
    "    if np.isnan(snd_dict['pres'][idx]) or np.isnan(snd_dict['hght'][idx]) or np.isnan(snd_dict['tmpc'][idx]) or np.isnan(snd_dict['dwpc'][idx]) or np.isnan(snd_dict['wdir'][idx]) or np.isnan(snd_dict['wspd'][idx]):\n",
    "        ni.append(idx)\n",
    "for i in col_names:\n",
    "    snd_dict[i]=np.delete(snd_dict[i],ni)\n",
    "\n",
    "snd=snd_dict"
   ]
  },
  {
   "cell_type": "markdown",
   "id": "5c298d89-4281-482c-891a-2c4ee420f8f6",
   "metadata": {},
   "source": [
    "## SHARPlib"
   ]
  },
  {
   "cell_type": "code",
   "execution_count": 3,
   "id": "debd1522-fbeb-4d08-b168-2c97cb215ed7",
   "metadata": {},
   "outputs": [
    {
     "data": {
      "text/plain": [
       "[2374.662109375, -82.10517120361328]"
      ]
     },
     "execution_count": 3,
     "metadata": {},
     "output_type": "execute_result"
    }
   ],
   "source": [
    "snd['press']=snd['pres']*100\n",
    "snd['tmpk']=snd['tmpc']+273.15\n",
    "snd['dwpk']=snd['dwpc']+273.15\n",
    "snd['mixr']=snd['mixr']/1000\n",
    "vtmp = thermo.virtual_temperature(snd['tmpk'], snd['mixr'])\n",
    "sfcpcl = parcel.Parcel()\n",
    "parcel.define_parcel(snd['press'], snd['tmpk'], snd['dwpk'], snd['mixr'], snd['theta'], snd['thetae'], sfcpcl, parcel.LPL_SFC)\n",
    "b=parcel.lift_parcel(parcel.lifter_wobus(), snd['press'], vtmp, sfcpcl)\n",
    "parcel.cape_cinh(snd['press'], snd['hght'], b, sfcpcl)"
   ]
  },
  {
   "cell_type": "markdown",
   "id": "364f88a6-90f2-4b40-9dba-7514cc685460",
   "metadata": {},
   "source": [
    "## METpy"
   ]
  },
  {
   "cell_type": "code",
   "execution_count": 4,
   "id": "38f044e3-95e8-4f28-9771-2bc05ee4220c",
   "metadata": {},
   "outputs": [],
   "source": [
    "import metpy.calc as mpcalc\n",
    "from metpy.units import units"
   ]
  },
  {
   "cell_type": "code",
   "execution_count": 5,
   "id": "270b2d13-01d2-4b93-a72a-dfaf3e336ef2",
   "metadata": {},
   "outputs": [
    {
     "data": {
      "text/plain": [
       "(2087.1163194463415 <Unit('joule / kilogram')>, 0 <Unit('joule / kilogram')>)"
      ]
     },
     "execution_count": 5,
     "metadata": {},
     "output_type": "execute_result"
    }
   ],
   "source": [
    "p = snd['pres'] * units.hPa\n",
    "z = snd['hght'] * units.m\n",
    "T = snd['tmpc'] * units.degC\n",
    "Td = snd['dwpc'] * units.degC\n",
    "mpcalc.surface_based_cape_cin(p, T, Td)"
   ]
  },
  {
   "cell_type": "markdown",
   "id": "c31ae3e1-0447-429a-9a66-edee31d4743a",
   "metadata": {},
   "source": [
    "## SHARPpy"
   ]
  },
  {
   "cell_type": "code",
   "execution_count": 6,
   "id": "24f6fadd-6f4e-49da-bb81-e66eb4928800",
   "metadata": {},
   "outputs": [],
   "source": [
    "from sharppy.sharptab import profile\n",
    "from sharppy.io.uwyo_decoder import UWYODecoder\n",
    "import datetime"
   ]
  },
  {
   "cell_type": "code",
   "execution_count": null,
   "id": "3c8f4f63-9a27-4702-8c51-f12479a69a2b",
   "metadata": {},
   "outputs": [],
   "source": [
    "dates=datetime.datetime(2022, 4, 29, 21, 0)\n",
    "prof = profile.create_profile(pres=snd['pres'], hght=snd['hght'], tmpc=snd['tmpc'], dwpc=snd['dwpc'], wspd=snd['wspd'], \\\n",
    "                              wdir=snd['wdir'], strictQC=False, profile='convective', date=dates)\n",
    "prof.sfcpcl.bplus, prof.sfcpcl.bminus"
   ]
  },
  {
   "cell_type": "markdown",
   "id": "e1d02494-f2b8-4859-b6b3-89eb17893ecf",
   "metadata": {},
   "source": [
    "# SPC Sounding"
   ]
  },
  {
   "cell_type": "code",
   "execution_count": null,
   "id": "1fc183e5-4b08-45de-a383-131128277949",
   "metadata": {},
   "outputs": [],
   "source": [
    "from IPython.display import Image\n",
    "Image(filename=f'{stid}.png') "
   ]
  }
 ],
 "metadata": {
  "kernelspec": {
   "display_name": "Python 3 (ipykernel)",
   "language": "python",
   "name": "python3"
  },
  "language_info": {
   "codemirror_mode": {
    "name": "ipython",
    "version": 3
   },
   "file_extension": ".py",
   "mimetype": "text/x-python",
   "name": "python",
   "nbconvert_exporter": "python",
   "pygments_lexer": "ipython3",
   "version": "3.10.12"
  }
 },
 "nbformat": 4,
 "nbformat_minor": 5
}
